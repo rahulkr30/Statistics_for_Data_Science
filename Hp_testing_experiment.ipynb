{
 "cells": [
  {
   "cell_type": "code",
   "execution_count": 53,
   "metadata": {},
   "outputs": [],
   "source": [
    "import pandas as pd\n",
    "import numpy as np \n",
    "import scipy.stats as stats \n",
    "import statsmodels.api as sm\n",
    "from statsmodels.formula.api import ols"
   ]
  },
  {
   "cell_type": "code",
   "execution_count": 54,
   "metadata": {},
   "outputs": [],
   "source": [
    "a=np.array([[75, 78, 80, 81, 83],[70, 72, 73, 75, 77],[65, 68, 70, 72, 75],[ 80, 82, 84, 86, 88]])"
   ]
  },
  {
   "cell_type": "code",
   "execution_count": 55,
   "metadata": {},
   "outputs": [],
   "source": [
    "group=np.repeat(np.arange(len(a)),5)"
   ]
  },
  {
   "cell_type": "code",
   "execution_count": 56,
   "metadata": {},
   "outputs": [
    {
     "data": {
      "text/plain": [
       "array([75, 78, 80, 81, 83, 70, 72, 73, 75, 77, 65, 68, 70, 72, 75, 80, 82,\n",
       "       84, 86, 88])"
      ]
     },
     "execution_count": 56,
     "metadata": {},
     "output_type": "execute_result"
    }
   ],
   "source": [
    "a.reshape(-1)"
   ]
  },
  {
   "cell_type": "code",
   "execution_count": 70,
   "metadata": {},
   "outputs": [],
   "source": [
    "df=pd.DataFrame({'group': group, 'value':a.reshape(-1)})"
   ]
  },
  {
   "cell_type": "code",
   "execution_count": 57,
   "metadata": {},
   "outputs": [
    {
     "name": "stdout",
     "output_type": "stream",
     "text": [
      "          sum_sq    df         F    PR(>F)\n",
      "C(group)   581.8   3.0  18.87429  0.000017\n",
      "Residual   164.4  16.0       NaN       NaN\n"
     ]
    }
   ],
   "source": [
    "model=ols('value~C(group)',data=df).fit()\n",
    "anova_table = sm.stats.anova_lm(model, typ=2)\n",
    "print(anova_table)"
   ]
  },
  {
   "cell_type": "code",
   "execution_count": 59,
   "metadata": {},
   "outputs": [
    {
     "data": {
      "text/plain": [
       "F_onewayResult(statistic=18.874290348742903, pvalue=1.6617003131732233e-05)"
      ]
     },
     "execution_count": 59,
     "metadata": {},
     "output_type": "execute_result"
    }
   ],
   "source": [
    "stats.f_oneway(*a)"
   ]
  },
  {
   "cell_type": "code",
   "execution_count": 49,
   "metadata": {},
   "outputs": [],
   "source": [
    "import statsmodels.stats.multicomp as mc"
   ]
  },
  {
   "cell_type": "code",
   "execution_count": 52,
   "metadata": {},
   "outputs": [
    {
     "name": "stdout",
     "output_type": "stream",
     "text": [
      " Multiple Comparison of Means - Tukey HSD, FWER=0.05 \n",
      "=====================================================\n",
      "group1 group2 meandiff p-adj   lower    upper  reject\n",
      "-----------------------------------------------------\n",
      "     0      1     -6.0 0.0413 -11.8002 -0.1998   True\n",
      "     0      2     -9.4 0.0014 -15.2002 -3.5998   True\n",
      "     0      3      4.6 0.1472  -1.2002 10.4002  False\n",
      "     1      2     -3.4 0.3669  -9.2002  2.4002  False\n",
      "     1      3     10.6 0.0004   4.7998 16.4002   True\n",
      "     2      3     14.0    0.0   8.1998 19.8002   True\n",
      "-----------------------------------------------------\n"
     ]
    }
   ],
   "source": [
    "a=mc.MultiComparison(df['value'],df['group'])\n",
    "print(a.tukeyhsd())\n"
   ]
  },
  {
   "cell_type": "code",
   "execution_count": 61,
   "metadata": {},
   "outputs": [],
   "source": [
    "v=np.array([[3,1,8],[3,8,6],[3,9,10]])"
   ]
  },
  {
   "cell_type": "code",
   "execution_count": 62,
   "metadata": {},
   "outputs": [
    {
     "data": {
      "text/plain": [
       "F_onewayResult(statistic=0.7425742574257427, pvalue=0.5150536699100567)"
      ]
     },
     "execution_count": 62,
     "metadata": {},
     "output_type": "execute_result"
    }
   ],
   "source": [
    "stats.f_oneway(*v)"
   ]
  },
  {
   "cell_type": "code",
   "execution_count": 75,
   "metadata": {},
   "outputs": [
    {
     "data": {
      "text/html": [
       "<table class=\"simpletable\">\n",
       "<caption>Multiple Comparison of Means - Tukey HSD, FWER=0.05</caption>\n",
       "<tr>\n",
       "  <th>group1</th> <th>group2</th> <th>meandiff</th>  <th>p-adj</th>   <th>lower</th>   <th>upper</th>  <th>reject</th>\n",
       "</tr>\n",
       "<tr>\n",
       "     <td>0</td>      <td>1</td>     <td>-6.0</td>   <td>0.0413</td> <td>-11.8002</td> <td>-0.1998</td>  <td>True</td> \n",
       "</tr>\n",
       "<tr>\n",
       "     <td>0</td>      <td>2</td>     <td>-9.4</td>   <td>0.0014</td> <td>-15.2002</td> <td>-3.5998</td>  <td>True</td> \n",
       "</tr>\n",
       "<tr>\n",
       "     <td>0</td>      <td>3</td>      <td>4.6</td>   <td>0.1472</td>  <td>-1.2002</td> <td>10.4002</td>  <td>False</td>\n",
       "</tr>\n",
       "<tr>\n",
       "     <td>1</td>      <td>2</td>     <td>-3.4</td>   <td>0.3669</td>  <td>-9.2002</td> <td>2.4002</td>   <td>False</td>\n",
       "</tr>\n",
       "<tr>\n",
       "     <td>1</td>      <td>3</td>     <td>10.6</td>   <td>0.0004</td>  <td>4.7998</td>  <td>16.4002</td>  <td>True</td> \n",
       "</tr>\n",
       "<tr>\n",
       "     <td>2</td>      <td>3</td>     <td>14.0</td>     <td>0.0</td>   <td>8.1998</td>  <td>19.8002</td>  <td>True</td> \n",
       "</tr>\n",
       "</table>"
      ],
      "text/plain": [
       "<class 'statsmodels.iolib.table.SimpleTable'>"
      ]
     },
     "execution_count": 75,
     "metadata": {},
     "output_type": "execute_result"
    },
    {
     "data": {
      "image/png": "[encoded data removed]",
      "text/plain": [
       "<Figure size 720x432 with 1 Axes>"
      ]
     },
     "metadata": {
      "needs_background": "light"
     },
     "output_type": "display_data"
    }
   ],
   "source": [
    "turkey=mc.pairwise_tukeyhsd(endog=df['value'],groups=df['group'])\n",
    "turkey.plot_simultaneous()\n",
    "turkey.summary()"
   ]
  },
  {
   "attachments": {},
   "cell_type": "markdown",
   "metadata": {},
   "source": [
    "#chi square distribution "
   ]
  },
  {
   "cell_type": "code",
   "execution_count": 88,
   "metadata": {},
   "outputs": [
    {
     "data": {
      "image/png": "[encoded data removed]",
      "text/plain": [
       "<Figure size 576x288 with 1 Axes>"
      ]
     },
     "metadata": {
      "needs_background": "light"
     },
     "output_type": "display_data"
    }
   ],
   "source": [
    "import matplotlib.pyplot as plt\n",
    "df = 10  # degrees of freedom\n",
    "\n",
    "x = np.linspace(0, 30, 500)  # range of x values\n",
    "\n",
    "pdf = stats.chi2.pdf(x, 12)  # probability density function\n",
    "cdf = stats.chi2.cdf(x, df)  # cumulative distribution function\n",
    "\n",
    "fig, ax = plt.subplots(figsize=(8, 4))\n",
    "\n",
    "ax.plot(x, pdf, label='PDF')\n",
    "#ax.plot(x, cdf, label='CDF')\n",
    "\n",
    "ax.set_xlabel('x')\n",
    "ax.set_ylabel('Probability')\n",
    "ax.set_title('Chi-Square Distribution with 10 Degrees of Freedom')\n",
    "ax.legend()\n",
    "\n",
    "plt.show()"
   ]
  },
  {
   "cell_type": "code",
   "execution_count": 90,
   "metadata": {},
   "outputs": [],
   "source": [
    "observed = [32, 178, 290, 236, 64]\n",
    "\n",
    "excepected=np.array([stats.binom.pmf(k=i,n=4,p=0.5) for i in range(5)])*sum(observed)"
   ]
  },
  {
   "cell_type": "code",
   "execution_count": 106,
   "metadata": {},
   "outputs": [
    {
     "data": {
      "text/plain": [
       "Power_divergenceResult(statistic=19.63333333333331, pvalue=0.0005898876209430525)"
      ]
     },
     "execution_count": 106,
     "metadata": {},
     "output_type": "execute_result"
    }
   ],
   "source": [
    "stats.chisquare(observed,excepected)"
   ]
  },
  {
   "cell_type": "code",
   "execution_count": 119,
   "metadata": {},
   "outputs": [
    {
     "data": {
      "text/plain": [
       "0.999410112379057"
      ]
     },
     "execution_count": 119,
     "metadata": {},
     "output_type": "execute_result"
    }
   ],
   "source": [
    "stats.chi2.cdf(((observed-excepected)**2/excepected).sum(),4)"
   ]
  },
  {
   "cell_type": "code",
   "execution_count": 123,
   "metadata": {},
   "outputs": [
    {
     "data": {
      "text/plain": [
       "19.63333333333331"
      ]
     },
     "execution_count": 123,
     "metadata": {},
     "output_type": "execute_result"
    }
   ],
   "source": [
    "statistic=((observed-excepected)**2/excepected).sum()"
   ]
  },
  {
   "attachments": {},
   "cell_type": "markdown",
   "metadata": {},
   "source": [
    "# test of independence "
   ]
  },
  {
   "cell_type": "code",
   "execution_count": 124,
   "metadata": {},
   "outputs": [],
   "source": [
    "observed = np.array([[1, 2, 0], [0, 1, 2], [1, 0, 0]])"
   ]
  },
  {
   "cell_type": "code",
   "execution_count": 129,
   "metadata": {},
   "outputs": [],
   "source": [
    "row_sum=observed.sum(axis=1)\n",
    "column_sum=observed.sum(axis=0)\n",
    "total=observed.sum()"
   ]
  },
  {
   "cell_type": "code",
   "execution_count": 131,
   "metadata": {},
   "outputs": [],
   "source": [
    "expected=(np.outer(row_sum,column_sum))/total"
   ]
  },
  {
   "cell_type": "code",
   "execution_count": 139,
   "metadata": {},
   "outputs": [],
   "source": [
    "chi_statistics=((observed-expected)**2/expected).sum()"
   ]
  },
  {
   "cell_type": "code",
   "execution_count": 140,
   "metadata": {},
   "outputs": [],
   "source": [
    "degree_of_freedom=(observed.shape[0]-1)*(observed.shape[1]-1)"
   ]
  },
  {
   "cell_type": "code",
   "execution_count": 144,
   "metadata": {},
   "outputs": [],
   "source": [
    "p_value=1-stats.chi2.cdf(chi_statistics,degree_of_freedom)"
   ]
  },
  {
   "cell_type": "code",
   "execution_count": 146,
   "metadata": {},
   "outputs": [
    {
     "name": "stdout",
     "output_type": "stream",
     "text": [
      "0.1831558634495687 6.222222222222222\n"
     ]
    }
   ],
   "source": [
    "print(p_value,chi_statistics)"
   ]
  },
  {
   "cell_type": "code",
   "execution_count": 145,
   "metadata": {},
   "outputs": [
    {
     "data": {
      "text/plain": [
       "Chi2ContingencyResult(statistic=6.222222222222222, pvalue=0.1831558634495687, dof=4, expected_freq=array([[0.85714286, 1.28571429, 0.85714286],\n",
       "       [0.85714286, 1.28571429, 0.85714286],\n",
       "       [0.28571429, 0.42857143, 0.28571429]]))"
      ]
     },
     "execution_count": 145,
     "metadata": {},
     "output_type": "execute_result"
    }
   ],
   "source": [
    "# second and simple method direct function \n",
    "stats.chi2_contingency(observed,excepected)"
   ]
  }
 ],
 "metadata": {
  "kernelspec": {
   "display_name": "Python 3",
   "language": "python",
   "name": "python3"
  },
  "language_info": {
   "codemirror_mode": {
    "name": "ipython",
    "version": 3
   },
   "file_extension": ".py",
   "mimetype": "text/x-python",
   "name": "python",
   "nbconvert_exporter": "python",
   "pygments_lexer": "ipython3",
   "version": "3.10.7"
  },
  "orig_nbformat": 4
 },
 "nbformat": 4,
 "nbformat_minor": 2
}
