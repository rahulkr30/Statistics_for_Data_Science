{
 "cells": [
  {
   "cell_type": "code",
   "execution_count": 1,
   "metadata": {},
   "outputs": [],
   "source": [
    "import pandas as pd\n",
    "import numpy as np \n",
    "import seaborn as sns \n",
    "import matplotlib.pyplot as plt\n",
    "import scipy.stats as stats \n",
    "from sklearn.neighbors import KernelDensity\n",
    "import statsmodels.api as sm\n"
   ]
  },
  {
   "cell_type": "code",
   "execution_count": 2,
   "metadata": {},
   "outputs": [],
   "source": [
    "tips=sns.load_dataset('tips')"
   ]
  },
  {
   "attachments": {},
   "cell_type": "markdown",
   "metadata": {},
   "source": [
    "# centre tendency "
   ]
  },
  {
   "attachments": {},
   "cell_type": "markdown",
   "metadata": {},
   "source": [
    "-- using libiaray "
   ]
  },
  {
   "cell_type": "code",
   "execution_count": 3,
   "metadata": {},
   "outputs": [
    {
     "data": {
      "text/plain": [
       "19.78594262295082"
      ]
     },
     "execution_count": 3,
     "metadata": {},
     "output_type": "execute_result"
    }
   ],
   "source": [
    "# Using libirary \n",
    "# mean- avg value \n",
    "tips.total_bill.mean()"
   ]
  },
  {
   "cell_type": "code",
   "execution_count": 4,
   "metadata": {},
   "outputs": [
    {
     "data": {
      "text/plain": [
       "0    13.42\n",
       "Name: total_bill, dtype: float64"
      ]
     },
     "execution_count": 4,
     "metadata": {},
     "output_type": "execute_result"
    }
   ],
   "source": [
    "# mode -- frequent value \n",
    "tips.total_bill.mode()"
   ]
  },
  {
   "cell_type": "code",
   "execution_count": 7,
   "metadata": {},
   "outputs": [
    {
     "data": {
      "text/plain": [
       "17.795"
      ]
     },
     "execution_count": 7,
     "metadata": {},
     "output_type": "execute_result"
    }
   ],
   "source": [
    "# median \n",
    "tips.total_bill.median()"
   ]
  },
  {
   "attachments": {},
   "cell_type": "markdown",
   "metadata": {},
   "source": [
    "-- using fomula "
   ]
  },
  {
   "cell_type": "code",
   "execution_count": 8,
   "metadata": {},
   "outputs": [],
   "source": [
    "t_bill=tips.total_bill"
   ]
  },
  {
   "cell_type": "code",
   "execution_count": 10,
   "metadata": {},
   "outputs": [
    {
     "data": {
      "text/plain": [
       "19.78594262295082"
      ]
     },
     "execution_count": 10,
     "metadata": {},
     "output_type": "execute_result"
    }
   ],
   "source": [
    "#mena\n",
    "t_bill.sum()/t_bill.count()"
   ]
  },
  {
   "cell_type": "code",
   "execution_count": 90,
   "metadata": {},
   "outputs": [],
   "source": [
    "def calculate_median(s):\n",
    "    x=np.sort(s) \n",
    "    if len(x)%2 == 0:\n",
    "        result=(x[len(x)//2-1]+x[len(x)//2])/2\n",
    "        return result\n",
    "    else:\n",
    "       result=x[(len(x)//2)]\n",
    "       return result\n",
    "\n",
    "        \n",
    "        \n"
   ]
  },
  {
   "cell_type": "code",
   "execution_count": 95,
   "metadata": {},
   "outputs": [
    {
     "name": "stdout",
     "output_type": "stream",
     "text": [
      "5.5\n"
     ]
    }
   ],
   "source": [
    "print(calculate_median(pd.Series([2, 5, 1, 9, 7, 3, 8, 4, 6,6])))"
   ]
  },
  {
   "cell_type": "code",
   "execution_count": 93,
   "metadata": {},
   "outputs": [
    {
     "name": "stdout",
     "output_type": "stream",
     "text": [
      "4\n"
     ]
    }
   ],
   "source": [
    "print(calculate_median(pd.Series([1,2,3,4,5,6,3,2,6,55,33])))"
   ]
  },
  {
   "attachments": {},
   "cell_type": "markdown",
   "metadata": {},
   "source": [
    "-- variablity \n",
    "- range \n",
    "- variance \n",
    "- standard deviation -\n",
    "- cv\n",
    "- quantile \n",
    "- percentile \n",
    "- box plot \n",
    "- wisker \n"
   ]
  },
  {
   "cell_type": "code",
   "execution_count": 97,
   "metadata": {},
   "outputs": [],
   "source": [
    "range = t_bill.max()-t_bill.min()"
   ]
  },
  {
   "cell_type": "code",
   "execution_count": 99,
   "metadata": {},
   "outputs": [
    {
     "data": {
      "text/plain": [
       "79.25293861397827"
      ]
     },
     "execution_count": 99,
     "metadata": {},
     "output_type": "execute_result"
    }
   ],
   "source": [
    "# variance - it is basiclly measure of valiablity that tells how the value is spread throught the mean .\n",
    "\n",
    "t_bill.var()\n"
   ]
  },
  {
   "cell_type": "code",
   "execution_count": 101,
   "metadata": {},
   "outputs": [
    {
     "data": {
      "text/plain": [
       "78.92813148851114"
      ]
     },
     "execution_count": 101,
     "metadata": {},
     "output_type": "execute_result"
    }
   ],
   "source": [
    "# variance of population \n",
    "t_bill.var(ddof=0)"
   ]
  },
  {
   "cell_type": "code",
   "execution_count": 102,
   "metadata": {},
   "outputs": [
    {
     "data": {
      "text/plain": [
       "8.902411954856856"
      ]
     },
     "execution_count": 102,
     "metadata": {},
     "output_type": "execute_result"
    }
   ],
   "source": [
    "# std \n",
    "t_bill.std()"
   ]
  },
  {
   "cell_type": "code",
   "execution_count": 105,
   "metadata": {},
   "outputs": [
    {
     "data": {
      "text/plain": [
       "8.884150577771132"
      ]
     },
     "execution_count": 105,
     "metadata": {},
     "output_type": "execute_result"
    }
   ],
   "source": [
    " \n",
    "t_bill.std(ddof=0)"
   ]
  },
  {
   "cell_type": "code",
   "execution_count": 108,
   "metadata": {},
   "outputs": [],
   "source": [
    "t_tips=tips.tip"
   ]
  },
  {
   "cell_type": "code",
   "execution_count": 111,
   "metadata": {},
   "outputs": [
    {
     "data": {
      "text/html": [
       "<div>\n",
       "<style scoped>\n",
       "    .dataframe tbody tr th:only-of-type {\n",
       "        vertical-align: middle;\n",
       "    }\n",
       "\n",
       "    .dataframe tbody tr th {\n",
       "        vertical-align: top;\n",
       "    }\n",
       "\n",
       "    .dataframe thead th {\n",
       "        text-align: right;\n",
       "    }\n",
       "</style>\n",
       "<table border=\"1\" class=\"dataframe\">\n",
       "  <thead>\n",
       "    <tr style=\"text-align: right;\">\n",
       "      <th></th>\n",
       "      <th>total_bill</th>\n",
       "      <th>tip</th>\n",
       "      <th>size</th>\n",
       "    </tr>\n",
       "  </thead>\n",
       "  <tbody>\n",
       "    <tr>\n",
       "      <th>total_bill</th>\n",
       "      <td>79.252939</td>\n",
       "      <td>8.323502</td>\n",
       "      <td>5.065983</td>\n",
       "    </tr>\n",
       "    <tr>\n",
       "      <th>tip</th>\n",
       "      <td>8.323502</td>\n",
       "      <td>1.914455</td>\n",
       "      <td>0.643906</td>\n",
       "    </tr>\n",
       "    <tr>\n",
       "      <th>size</th>\n",
       "      <td>5.065983</td>\n",
       "      <td>0.643906</td>\n",
       "      <td>0.904591</td>\n",
       "    </tr>\n",
       "  </tbody>\n",
       "</table>\n",
       "</div>"
      ],
      "text/plain": [
       "            total_bill       tip      size\n",
       "total_bill   79.252939  8.323502  5.065983\n",
       "tip           8.323502  1.914455  0.643906\n",
       "size          5.065983  0.643906  0.904591"
      ]
     },
     "execution_count": 111,
     "metadata": {},
     "output_type": "execute_result"
    }
   ],
   "source": [
    "# covariance \n",
    "tips.cov()"
   ]
  },
  {
   "cell_type": "code",
   "execution_count": 113,
   "metadata": {},
   "outputs": [
    {
     "data": {
      "text/plain": [
       "<AxesSubplot: xlabel='total_bill', ylabel='tip'>"
      ]
     },
     "execution_count": 113,
     "metadata": {},
     "output_type": "execute_result"
    },
    {
     "data": {
      "image/png": "[encoded data removed]",
      "text/plain": [
       "<Figure size 432x288 with 1 Axes>"
      ]
     },
     "metadata": {
      "needs_background": "light"
     },
     "output_type": "display_data"
    }
   ],
   "source": [
    "sns.scatterplot(x=t_bill,y=t_tips)\n"
   ]
  },
  {
   "cell_type": "code",
   "execution_count": 114,
   "metadata": {},
   "outputs": [
    {
     "data": {
      "text/plain": [
       "8.323501629224854"
      ]
     },
     "execution_count": 114,
     "metadata": {},
     "output_type": "execute_result"
    }
   ],
   "source": [
    "t_tips.cov(t_bill)"
   ]
  },
  {
   "attachments": {},
   "cell_type": "markdown",
   "metadata": {},
   "source": [
    " the only limitation of covarise that  it is  not give the strength of relatio so then we use coreltion."
   ]
  },
  {
   "cell_type": "code",
   "execution_count": 116,
   "metadata": {},
   "outputs": [
    {
     "data": {
      "text/html": [
       "<div>\n",
       "<style scoped>\n",
       "    .dataframe tbody tr th:only-of-type {\n",
       "        vertical-align: middle;\n",
       "    }\n",
       "\n",
       "    .dataframe tbody tr th {\n",
       "        vertical-align: top;\n",
       "    }\n",
       "\n",
       "    .dataframe thead th {\n",
       "        text-align: right;\n",
       "    }\n",
       "</style>\n",
       "<table border=\"1\" class=\"dataframe\">\n",
       "  <thead>\n",
       "    <tr style=\"text-align: right;\">\n",
       "      <th></th>\n",
       "      <th>total_bill</th>\n",
       "      <th>tip</th>\n",
       "      <th>size</th>\n",
       "    </tr>\n",
       "  </thead>\n",
       "  <tbody>\n",
       "    <tr>\n",
       "      <th>total_bill</th>\n",
       "      <td>1.000000</td>\n",
       "      <td>0.675734</td>\n",
       "      <td>0.598315</td>\n",
       "    </tr>\n",
       "    <tr>\n",
       "      <th>tip</th>\n",
       "      <td>0.675734</td>\n",
       "      <td>1.000000</td>\n",
       "      <td>0.489299</td>\n",
       "    </tr>\n",
       "    <tr>\n",
       "      <th>size</th>\n",
       "      <td>0.598315</td>\n",
       "      <td>0.489299</td>\n",
       "      <td>1.000000</td>\n",
       "    </tr>\n",
       "  </tbody>\n",
       "</table>\n",
       "</div>"
      ],
      "text/plain": [
       "            total_bill       tip      size\n",
       "total_bill    1.000000  0.675734  0.598315\n",
       "tip           0.675734  1.000000  0.489299\n",
       "size          0.598315  0.489299  1.000000"
      ]
     },
     "execution_count": 116,
     "metadata": {},
     "output_type": "execute_result"
    }
   ],
   "source": [
    "tips.corr()"
   ]
  },
  {
   "attachments": {},
   "cell_type": "markdown",
   "metadata": {},
   "source": [
    "--- pdf and cdf "
   ]
  },
  {
   "attachments": {},
   "cell_type": "markdown",
   "metadata": {},
   "source": [
    "random variable \n",
    "type of random variablr\n",
    "1)random discreat variable\n",
    "2) continous variable\n",
    "\n",
    "1)discreat variable -->pmf probablity mass function -->cdf (cumsum of pmf) p(X<=x>)\n",
    "\n",
    "2) continues rv \n",
    "pdf-how to measure pdf 1)perametric and 2) non paremateic \n",
    "cdf \n"
   ]
  },
  {
   "cell_type": "code",
   "execution_count": 120,
   "metadata": {},
   "outputs": [],
   "source": [
    "# non parametric approch \n",
    "\n",
    "normal=np.random.normal(10,100,1000)\n"
   ]
  },
  {
   "cell_type": "code",
   "execution_count": 124,
   "metadata": {},
   "outputs": [],
   "source": [
    "mu,std =stats.norm.fit(normal)"
   ]
  },
  {
   "cell_type": "code",
   "execution_count": 132,
   "metadata": {},
   "outputs": [],
   "source": [
    "pdf_using_libiarary=stats.norm.pdf(np.linspace(normal.min(),normal.max(),1000),mu,std)"
   ]
  },
  {
   "cell_type": "code",
   "execution_count": 129,
   "metadata": {},
   "outputs": [],
   "source": [
    "import math"
   ]
  },
  {
   "cell_type": "code",
   "execution_count": 130,
   "metadata": {},
   "outputs": [],
   "source": [
    "x=np.linspace(normal.min(),normal.max(),1000)"
   ]
  },
  {
   "cell_type": "code",
   "execution_count": 131,
   "metadata": {},
   "outputs": [],
   "source": [
    "pdf = [1/(std*math.sqrt(2*math.pi)) * math.exp(-(i-mu)**2/(2*std**2)) for i in x]"
   ]
  },
  {
   "cell_type": "code",
   "execution_count": 138,
   "metadata": {},
   "outputs": [
    {
     "data": {
      "text/plain": [
       "[<matplotlib.lines.Line2D at 0x2abb94cd180>]"
      ]
     },
     "execution_count": 138,
     "metadata": {},
     "output_type": "execute_result"
    },
    {
     "data": {
      "image/png": "[encoded data removed]",
      "text/plain": [
       "<Figure size 432x288 with 1 Axes>"
      ]
     },
     "metadata": {
      "needs_background": "light"
     },
     "output_type": "display_data"
    }
   ],
   "source": [
    "plt.plot(x,pdf_using_libiarary)\n",
    "plt.plot(x,pdf)"
   ]
  },
  {
   "cell_type": "code",
   "execution_count": 151,
   "metadata": {},
   "outputs": [],
   "source": [
    "cdf=stats.norm.cdf(x,mu,std)"
   ]
  },
  {
   "cell_type": "code",
   "execution_count": 145,
   "metadata": {},
   "outputs": [
    {
     "data": {
      "text/plain": [
       "array([5.86612557e-05, 6.03311009e-05, 6.20456907e-05, 6.38061407e-05,\n",
       "       6.56135922e-05, 6.74692122e-05, 6.93741944e-05, 7.13297592e-05,\n",
       "       7.33371550e-05, 7.53976580e-05, 7.75125732e-05, 7.96832348e-05,\n",
       "       8.19110068e-05, 8.41972836e-05, 8.65434909e-05, 8.89510855e-05,\n",
       "       9.14215569e-05, 9.39564273e-05, 9.65572524e-05, 9.92256220e-05,\n",
       "       1.01963161e-04, 1.04771529e-04, 1.07652423e-04, 1.10607576e-04,\n",
       "       1.13638759e-04, 1.16747781e-04, 1.19936489e-04, 1.23206772e-04,\n",
       "       1.26560558e-04, 1.29999816e-04, 1.33526557e-04, 1.37142837e-04,\n",
       "       1.40850753e-04, 1.44652447e-04, 1.48550107e-04, 1.52545966e-04,\n",
       "       1.56642304e-04, 1.60841449e-04, 1.65145779e-04, 1.69557719e-04,\n",
       "       1.74079745e-04, 1.78714386e-04, 1.83464221e-04, 1.88331882e-04,\n",
       "       1.93320058e-04, 1.98431490e-04, 2.03668975e-04, 2.09035369e-04,\n",
       "       2.14533585e-04, 2.20166594e-04, 2.25937427e-04, 2.31849178e-04,\n",
       "       2.37905001e-04, 2.44108113e-04, 2.50461797e-04, 2.56969400e-04,\n",
       "       2.63634335e-04, 2.70460083e-04, 2.77450194e-04, 2.84608286e-04,\n",
       "       2.91938051e-04, 2.99443250e-04, 3.07127719e-04, 3.14995368e-04,\n",
       "       3.23050182e-04, 3.31296224e-04, 3.39737635e-04, 3.48378634e-04,\n",
       "       3.57223523e-04, 3.66276683e-04, 3.75542583e-04, 3.85025770e-04,\n",
       "       3.94730883e-04, 4.04662645e-04, 4.14825868e-04, 4.25225455e-04,\n",
       "       4.35866400e-04, 4.46753788e-04, 4.57892802e-04, 4.69288717e-04,\n",
       "       4.80946907e-04, 4.92872844e-04, 5.05072101e-04, 5.17550351e-04,\n",
       "       5.30313371e-04, 5.43367042e-04, 5.56717353e-04, 5.70370398e-04,\n",
       "       5.84332382e-04, 5.98609620e-04, 6.13208540e-04, 6.28135684e-04,\n",
       "       6.43397710e-04, 6.59001392e-04, 6.74953624e-04, 6.91261421e-04,\n",
       "       7.07931920e-04, 7.24972382e-04, 7.42390192e-04, 7.60192866e-04,\n",
       "       7.78388047e-04, 7.96983509e-04, 8.15987159e-04, 8.35407040e-04,\n",
       "       8.55251328e-04, 8.75528340e-04, 8.96246532e-04, 9.17414503e-04,\n",
       "       9.39040993e-04, 9.61134889e-04, 9.83705227e-04, 1.00676119e-03,\n",
       "       1.03031211e-03, 1.05436748e-03, 1.07893694e-03, 1.10403029e-03,\n",
       "       1.12965749e-03, 1.15582866e-03, 1.18255408e-03, 1.20984420e-03,\n",
       "       1.23770963e-03, 1.26616116e-03, 1.29520974e-03, 1.32486649e-03,\n",
       "       1.35514271e-03, 1.38604989e-03, 1.41759969e-03, 1.44980393e-03,\n",
       "       1.48267464e-03, 1.51622403e-03, 1.55046448e-03, 1.58540859e-03,\n",
       "       1.62106912e-03, 1.65745904e-03, 1.69459152e-03, 1.73247991e-03,\n",
       "       1.77113778e-03, 1.81057888e-03, 1.85081718e-03, 1.89186686e-03,\n",
       "       1.93374230e-03, 1.97645808e-03, 2.02002900e-03, 2.06447010e-03,\n",
       "       2.10979659e-03, 2.15602394e-03, 2.20316782e-03, 2.25124412e-03,\n",
       "       2.30026898e-03, 2.35025873e-03, 2.40122996e-03, 2.45319949e-03,\n",
       "       2.50618436e-03, 2.56020185e-03, 2.61526947e-03, 2.67140501e-03,\n",
       "       2.72862644e-03, 2.78695203e-03, 2.84640026e-03, 2.90698989e-03,\n",
       "       2.96873990e-03, 3.03166954e-03, 3.09579831e-03, 3.16114597e-03,\n",
       "       3.22773254e-03, 3.29557831e-03, 3.36470380e-03, 3.43512983e-03,\n",
       "       3.50687748e-03, 3.57996808e-03, 3.65442327e-03, 3.73026491e-03,\n",
       "       3.80751519e-03, 3.88619653e-03, 3.96633167e-03, 4.04794360e-03,\n",
       "       4.13105561e-03, 4.21569126e-03, 4.30187442e-03, 4.38962922e-03,\n",
       "       4.47898011e-03, 4.56995181e-03, 4.66256934e-03, 4.75685801e-03,\n",
       "       4.85284345e-03, 4.95055156e-03, 5.05000855e-03, 5.15124095e-03,\n",
       "       5.25427557e-03, 5.35913954e-03, 5.46586028e-03, 5.57446555e-03,\n",
       "       5.68498339e-03, 5.79744215e-03, 5.91187053e-03, 6.02829750e-03,\n",
       "       6.14675238e-03, 6.26726478e-03, 6.38986464e-03, 6.51458223e-03,\n",
       "       6.64144812e-03, 6.77049322e-03, 6.90174874e-03, 7.03524625e-03,\n",
       "       7.17101761e-03, 7.30909503e-03, 7.44951102e-03, 7.59229845e-03,\n",
       "       7.73749050e-03, 7.88512068e-03, 8.03522284e-03, 8.18783114e-03,\n",
       "       8.34298010e-03, 8.50070455e-03, 8.66103967e-03, 8.82402095e-03,\n",
       "       8.98968423e-03, 9.15806569e-03, 9.32920182e-03, 9.50312948e-03,\n",
       "       9.67988583e-03, 9.85950838e-03, 1.00420350e-02, 1.02275038e-02,\n",
       "       1.04159534e-02, 1.06074225e-02, 1.08019505e-02, 1.09995767e-02,\n",
       "       1.12003411e-02, 1.14042838e-02, 1.16114453e-02, 1.18218666e-02,\n",
       "       1.20355887e-02, 1.22526533e-02, 1.24731020e-02, 1.26969772e-02,\n",
       "       1.29243214e-02, 1.31551773e-02, 1.33895880e-02, 1.36275972e-02,\n",
       "       1.38692487e-02, 1.41145864e-02, 1.43636549e-02, 1.46164991e-02,\n",
       "       1.48731638e-02, 1.51336947e-02, 1.53981374e-02, 1.56665379e-02,\n",
       "       1.59389426e-02, 1.62153982e-02, 1.64959516e-02, 1.67806501e-02,\n",
       "       1.70695413e-02, 1.73626730e-02, 1.76600935e-02, 1.79618513e-02,\n",
       "       1.82679950e-02, 1.85785738e-02, 1.88936369e-02, 1.92132341e-02,\n",
       "       1.95374153e-02, 1.98662306e-02, 2.01997306e-02, 2.05379659e-02,\n",
       "       2.08809875e-02, 2.12288469e-02, 2.15815954e-02, 2.19392850e-02,\n",
       "       2.23019676e-02, 2.26696955e-02, 2.30425214e-02, 2.34204980e-02,\n",
       "       2.38036784e-02, 2.41921158e-02, 2.45858637e-02, 2.49849759e-02,\n",
       "       2.53895062e-02, 2.57995090e-02, 2.62150385e-02, 2.66361493e-02,\n",
       "       2.70628962e-02, 2.74953342e-02, 2.79335184e-02, 2.83775043e-02,\n",
       "       2.88273473e-02, 2.92831033e-02, 2.97448279e-02, 3.02125774e-02,\n",
       "       3.06864079e-02, 3.11663757e-02, 3.16525374e-02, 3.21449496e-02,\n",
       "       3.26436691e-02, 3.31487528e-02, 3.36602576e-02, 3.41782409e-02,\n",
       "       3.47027597e-02, 3.52338714e-02, 3.57716335e-02, 3.63161034e-02,\n",
       "       3.68673389e-02, 3.74253975e-02, 3.79903370e-02, 3.85622152e-02,\n",
       "       3.91410899e-02, 3.97270190e-02, 4.03200605e-02, 4.09202723e-02,\n",
       "       4.15277123e-02, 4.21424386e-02, 4.27645090e-02, 4.33939817e-02,\n",
       "       4.40309144e-02, 4.46753652e-02, 4.53273920e-02, 4.59870526e-02,\n",
       "       4.66544049e-02, 4.73295065e-02, 4.80124153e-02, 4.87031887e-02,\n",
       "       4.94018844e-02, 5.01085597e-02, 5.08232720e-02, 5.15460785e-02,\n",
       "       5.22770364e-02, 5.30162025e-02, 5.37636337e-02, 5.45193867e-02,\n",
       "       5.52835179e-02, 5.60560838e-02, 5.68371405e-02, 5.76267440e-02,\n",
       "       5.84249499e-02, 5.92318140e-02, 6.00473915e-02, 6.08717376e-02,\n",
       "       6.17049071e-02, 6.25469546e-02, 6.33979346e-02, 6.42579009e-02,\n",
       "       6.51269076e-02, 6.60050080e-02, 6.68922554e-02, 6.77887027e-02,\n",
       "       6.86944024e-02, 6.96094067e-02, 7.05337675e-02, 7.14675363e-02,\n",
       "       7.24107643e-02, 7.33635023e-02, 7.43258005e-02, 7.52977090e-02,\n",
       "       7.62792773e-02, 7.72705545e-02, 7.82715894e-02, 7.92824302e-02,\n",
       "       8.03031246e-02, 8.13337200e-02, 8.23742631e-02, 8.34248004e-02,\n",
       "       8.44853777e-02, 8.55560402e-02, 8.66368328e-02, 8.77277997e-02,\n",
       "       8.88289846e-02, 8.99404306e-02, 9.10621804e-02, 9.21942758e-02,\n",
       "       9.33367583e-02, 9.44896686e-02, 9.56530470e-02, 9.68269328e-02,\n",
       "       9.80113651e-02, 9.92063820e-02, 1.00412021e-01, 1.01628319e-01,\n",
       "       1.02855313e-01, 1.04093037e-01, 1.05341527e-01, 1.06600817e-01,\n",
       "       1.07870939e-01, 1.09151928e-01, 1.10443813e-01, 1.11746628e-01,\n",
       "       1.13060401e-01, 1.14385163e-01, 1.15720942e-01, 1.17067766e-01,\n",
       "       1.18425662e-01, 1.19794657e-01, 1.21174775e-01, 1.22566042e-01,\n",
       "       1.23968482e-01, 1.25382116e-01, 1.26806968e-01, 1.28243057e-01,\n",
       "       1.29690405e-01, 1.31149031e-01, 1.32618952e-01, 1.34100187e-01,\n",
       "       1.35592752e-01, 1.37096662e-01, 1.38611932e-01, 1.40138576e-01,\n",
       "       1.41676605e-01, 1.43226033e-01, 1.44786869e-01, 1.46359124e-01,\n",
       "       1.47942805e-01, 1.49537920e-01, 1.51144477e-01, 1.52762480e-01,\n",
       "       1.54391934e-01, 1.56032842e-01, 1.57685207e-01, 1.59349030e-01,\n",
       "       1.61024312e-01, 1.62711050e-01, 1.64409245e-01, 1.66118892e-01,\n",
       "       1.67839986e-01, 1.69572524e-01, 1.71316499e-01, 1.73071902e-01,\n",
       "       1.74838726e-01, 1.76616961e-01, 1.78406595e-01, 1.80207617e-01,\n",
       "       1.82020012e-01, 1.83843768e-01, 1.85678868e-01, 1.87525295e-01,\n",
       "       1.89383032e-01, 1.91252060e-01, 1.93132357e-01, 1.95023903e-01,\n",
       "       1.96926675e-01, 1.98840649e-01, 2.00765800e-01, 2.02702102e-01,\n",
       "       2.04649526e-01, 2.06608045e-01, 2.08577629e-01, 2.10558245e-01,\n",
       "       2.12549863e-01, 2.14552447e-01, 2.16565964e-01, 2.18590377e-01,\n",
       "       2.20625650e-01, 2.22671743e-01, 2.24728616e-01, 2.26796230e-01,\n",
       "       2.28874541e-01, 2.30963506e-01, 2.33063080e-01, 2.35173218e-01,\n",
       "       2.37293873e-01, 2.39424995e-01, 2.41566535e-01, 2.43718444e-01,\n",
       "       2.45880667e-01, 2.48053153e-01, 2.50235846e-01, 2.52428692e-01,\n",
       "       2.54631632e-01, 2.56844609e-01, 2.59067563e-01, 2.61300434e-01,\n",
       "       2.63543159e-01, 2.65795677e-01, 2.68057922e-01, 2.70329829e-01,\n",
       "       2.72611332e-01, 2.74902362e-01, 2.77202851e-01, 2.79512728e-01,\n",
       "       2.81831923e-01, 2.84160362e-01, 2.86497972e-01, 2.88844677e-01,\n",
       "       2.91200403e-01, 2.93565072e-01, 2.95938605e-01, 2.98320922e-01,\n",
       "       3.00711945e-01, 3.03111590e-01, 3.05519775e-01, 3.07936416e-01,\n",
       "       3.10361428e-01, 3.12794726e-01, 3.15236221e-01, 3.17685825e-01,\n",
       "       3.20143450e-01, 3.22609005e-01, 3.25082398e-01, 3.27563537e-01,\n",
       "       3.30052329e-01, 3.32548679e-01, 3.35052492e-01, 3.37563671e-01,\n",
       "       3.40082119e-01, 3.42607738e-01, 3.45140427e-01, 3.47680087e-01,\n",
       "       3.50226617e-01, 3.52779914e-01, 3.55339875e-01, 3.57906396e-01,\n",
       "       3.60479373e-01, 3.63058699e-01, 3.65644269e-01, 3.68235973e-01,\n",
       "       3.70833705e-01, 3.73437355e-01, 3.76046813e-01, 3.78661969e-01,\n",
       "       3.81282710e-01, 3.83908926e-01, 3.86540501e-01, 3.89177324e-01,\n",
       "       3.91819279e-01, 3.94466251e-01, 3.97118124e-01, 3.99774782e-01,\n",
       "       4.02436107e-01, 4.05101982e-01, 4.07772288e-01, 4.10446906e-01,\n",
       "       4.13125716e-01, 4.15808598e-01, 4.18495431e-01, 4.21186094e-01,\n",
       "       4.23880464e-01, 4.26578419e-01, 4.29279836e-01, 4.31984592e-01,\n",
       "       4.34692562e-01, 4.37403623e-01, 4.40117649e-01, 4.42834515e-01,\n",
       "       4.45554096e-01, 4.48276265e-01, 4.51000897e-01, 4.53727863e-01,\n",
       "       4.56457038e-01, 4.59188294e-01, 4.61921503e-01, 4.64656537e-01,\n",
       "       4.67393268e-01, 4.70131568e-01, 4.72871308e-01, 4.75612359e-01,\n",
       "       4.78354591e-01, 4.81097877e-01, 4.83842085e-01, 4.86587088e-01,\n",
       "       4.89332754e-01, 4.92078955e-01, 4.94825561e-01, 4.97572442e-01,\n",
       "       5.00319467e-01, 5.03066507e-01, 5.05813433e-01, 5.08560113e-01,\n",
       "       5.11306419e-01, 5.14052221e-01, 5.16797388e-01, 5.19541791e-01,\n",
       "       5.22285301e-01, 5.25027788e-01, 5.27769123e-01, 5.30509177e-01,\n",
       "       5.33247820e-01, 5.35984925e-01, 5.38720362e-01, 5.41454004e-01,\n",
       "       5.44185721e-01, 5.46915388e-01, 5.49642875e-01, 5.52368057e-01,\n",
       "       5.55090805e-01, 5.57810995e-01, 5.60528499e-01, 5.63243191e-01,\n",
       "       5.65954947e-01, 5.68663642e-01, 5.71369150e-01, 5.74071349e-01,\n",
       "       5.76770114e-01, 5.79465322e-01, 5.82156851e-01, 5.84844578e-01,\n",
       "       5.87528382e-01, 5.90208143e-01, 5.92883739e-01, 5.95555050e-01,\n",
       "       5.98221958e-01, 6.00884344e-01, 6.03542089e-01, 6.06195077e-01,\n",
       "       6.08843190e-01, 6.11486313e-01, 6.14124330e-01, 6.16757127e-01,\n",
       "       6.19384589e-01, 6.22006603e-01, 6.24623058e-01, 6.27233840e-01,\n",
       "       6.29838840e-01, 6.32437948e-01, 6.35031053e-01, 6.37618047e-01,\n",
       "       6.40198824e-01, 6.42773275e-01, 6.45341295e-01, 6.47902779e-01,\n",
       "       6.50457623e-01, 6.53005723e-01, 6.55546978e-01, 6.58081285e-01,\n",
       "       6.60608543e-01, 6.63128655e-01, 6.65641520e-01, 6.68147041e-01,\n",
       "       6.70645122e-01, 6.73135666e-01, 6.75618580e-01, 6.78093769e-01,\n",
       "       6.80561140e-01, 6.83020603e-01, 6.85472066e-01, 6.87915440e-01,\n",
       "       6.90350637e-01, 6.92777568e-01, 6.95196149e-01, 6.97606292e-01,\n",
       "       7.00007915e-01, 7.02400935e-01, 7.04785268e-01, 7.07160836e-01,\n",
       "       7.09527556e-01, 7.11885353e-01, 7.14234147e-01, 7.16573862e-01,\n",
       "       7.18904424e-01, 7.21225758e-01, 7.23537791e-01, 7.25840453e-01,\n",
       "       7.28133672e-01, 7.30417379e-01, 7.32691506e-01, 7.34955987e-01,\n",
       "       7.37210755e-01, 7.39455745e-01, 7.41690896e-01, 7.43916144e-01,\n",
       "       7.46131428e-01, 7.48336689e-01, 7.50531869e-01, 7.52716910e-01,\n",
       "       7.54891756e-01, 7.57056352e-01, 7.59210645e-01, 7.61354583e-01,\n",
       "       7.63488114e-01, 7.65611188e-01, 7.67723757e-01, 7.69825773e-01,\n",
       "       7.71917190e-01, 7.73997963e-01, 7.76068049e-01, 7.78127404e-01,\n",
       "       7.80175988e-01, 7.82213761e-01, 7.84240683e-01, 7.86256718e-01,\n",
       "       7.88261828e-01, 7.90255979e-01, 7.92239137e-01, 7.94211269e-01,\n",
       "       7.96172344e-01, 7.98122331e-01, 8.00061202e-01, 8.01988928e-01,\n",
       "       8.03905483e-01, 8.05810842e-01, 8.07704981e-01, 8.09587876e-01,\n",
       "       8.11459506e-01, 8.13319850e-01, 8.15168888e-01, 8.17006604e-01,\n",
       "       8.18832978e-01, 8.20647997e-01, 8.22451644e-01, 8.24243907e-01,\n",
       "       8.26024773e-01, 8.27794231e-01, 8.29552270e-01, 8.31298883e-01,\n",
       "       8.33034060e-01, 8.34757796e-01, 8.36470085e-01, 8.38170922e-01,\n",
       "       8.39860305e-01, 8.41538230e-01, 8.43204697e-01, 8.44859706e-01,\n",
       "       8.46503258e-01, 8.48135354e-01, 8.49755999e-01, 8.51365197e-01,\n",
       "       8.52962951e-01, 8.54549270e-01, 8.56124161e-01, 8.57687631e-01,\n",
       "       8.59239690e-01, 8.60780349e-01, 8.62309619e-01, 8.63827512e-01,\n",
       "       8.65334043e-01, 8.66829224e-01, 8.68313072e-01, 8.69785602e-01,\n",
       "       8.71246833e-01, 8.72696781e-01, 8.74135467e-01, 8.75562910e-01,\n",
       "       8.76979130e-01, 8.78384151e-01, 8.79777994e-01, 8.81160683e-01,\n",
       "       8.82532242e-01, 8.83892697e-01, 8.85242073e-01, 8.86580399e-01,\n",
       "       8.87907700e-01, 8.89224006e-01, 8.90529347e-01, 8.91823752e-01,\n",
       "       8.93107252e-01, 8.94379879e-01, 8.95641665e-01, 8.96892644e-01,\n",
       "       8.98132849e-01, 8.99362316e-01, 9.00581079e-01, 9.01789174e-01,\n",
       "       9.02986639e-01, 9.04173510e-01, 9.05349826e-01, 9.06515626e-01,\n",
       "       9.07670948e-01, 9.08815833e-01, 9.09950322e-01, 9.11074455e-01,\n",
       "       9.12188275e-01, 9.13291823e-01, 9.14385144e-01, 9.15468281e-01,\n",
       "       9.16541277e-01, 9.17604177e-01, 9.18657027e-01, 9.19699872e-01,\n",
       "       9.20732759e-01, 9.21755734e-01, 9.22768844e-01, 9.23772137e-01,\n",
       "       9.24765662e-01, 9.25749466e-01, 9.26723599e-01, 9.27688111e-01,\n",
       "       9.28643050e-01, 9.29588468e-01, 9.30524415e-01, 9.31450942e-01,\n",
       "       9.32368101e-01, 9.33275943e-01, 9.34174520e-01, 9.35063886e-01,\n",
       "       9.35944092e-01, 9.36815193e-01, 9.37677240e-01, 9.38530289e-01,\n",
       "       9.39374393e-01, 9.40209606e-01, 9.41035983e-01, 9.41853579e-01,\n",
       "       9.42662449e-01, 9.43462648e-01, 9.44254232e-01, 9.45037255e-01,\n",
       "       9.45811776e-01, 9.46577848e-01, 9.47335529e-01, 9.48084876e-01,\n",
       "       9.48825944e-01, 9.49558791e-01, 9.50283473e-01, 9.51000048e-01,\n",
       "       9.51708573e-01, 9.52409105e-01, 9.53101701e-01, 9.53786419e-01,\n",
       "       9.54463317e-01, 9.55132453e-01, 9.55793883e-01, 9.56447666e-01,\n",
       "       9.57093860e-01, 9.57732522e-01, 9.58363711e-01, 9.58987485e-01,\n",
       "       9.59603900e-01, 9.60213017e-01, 9.60814891e-01, 9.61409582e-01,\n",
       "       9.61997147e-01, 9.62577645e-01, 9.63151132e-01, 9.63717667e-01,\n",
       "       9.64277309e-01, 9.64830113e-01, 9.65376139e-01, 9.65915444e-01,\n",
       "       9.66448085e-01, 9.66974120e-01, 9.67493607e-01, 9.68006601e-01,\n",
       "       9.68513162e-01, 9.69013345e-01, 9.69507207e-01, 9.69994806e-01,\n",
       "       9.70476198e-01, 9.70951440e-01, 9.71420587e-01, 9.71883697e-01,\n",
       "       9.72340825e-01, 9.72792028e-01, 9.73237360e-01, 9.73676878e-01,\n",
       "       9.74110638e-01, 9.74538693e-01, 9.74961099e-01, 9.75377912e-01,\n",
       "       9.75789185e-01, 9.76194973e-01, 9.76595331e-01, 9.76990312e-01,\n",
       "       9.77379970e-01, 9.77764358e-01, 9.78143531e-01, 9.78517541e-01,\n",
       "       9.78886440e-01, 9.79250283e-01, 9.79609120e-01, 9.79963004e-01,\n",
       "       9.80311987e-01, 9.80656120e-01, 9.80995455e-01, 9.81330043e-01,\n",
       "       9.81659935e-01, 9.81985181e-01, 9.82305832e-01, 9.82621937e-01,\n",
       "       9.82933546e-01, 9.83240708e-01, 9.83543474e-01, 9.83841891e-01,\n",
       "       9.84136008e-01, 9.84425873e-01, 9.84711535e-01, 9.84993041e-01,\n",
       "       9.85270438e-01, 9.85543773e-01, 9.85813093e-01, 9.86078445e-01,\n",
       "       9.86339875e-01, 9.86597428e-01, 9.86851149e-01, 9.87101085e-01,\n",
       "       9.87347280e-01, 9.87589778e-01, 9.87828623e-01, 9.88063861e-01,\n",
       "       9.88295533e-01, 9.88523684e-01, 9.88748356e-01, 9.88969591e-01,\n",
       "       9.89187433e-01, 9.89401923e-01, 9.89613102e-01, 9.89821012e-01,\n",
       "       9.90025694e-01, 9.90227188e-01, 9.90425535e-01, 9.90620774e-01,\n",
       "       9.90812946e-01, 9.91002088e-01, 9.91188242e-01, 9.91371444e-01,\n",
       "       9.91551733e-01, 9.91729147e-01, 9.91903725e-01, 9.92075502e-01,\n",
       "       9.92244515e-01, 9.92410803e-01, 9.92574400e-01, 9.92735342e-01,\n",
       "       9.92893666e-01, 9.93049406e-01, 9.93202597e-01, 9.93353275e-01,\n",
       "       9.93501472e-01, 9.93647224e-01, 9.93790563e-01, 9.93931524e-01,\n",
       "       9.94070138e-01, 9.94206438e-01, 9.94340458e-01, 9.94472228e-01,\n",
       "       9.94601780e-01, 9.94729146e-01, 9.94854357e-01, 9.94977443e-01,\n",
       "       9.95098434e-01, 9.95217361e-01, 9.95334253e-01, 9.95449140e-01,\n",
       "       9.95562051e-01, 9.95673014e-01, 9.95782058e-01, 9.95889211e-01,\n",
       "       9.95994501e-01, 9.96097956e-01, 9.96199602e-01, 9.96299466e-01,\n",
       "       9.96397575e-01, 9.96493956e-01, 9.96588634e-01, 9.96681635e-01,\n",
       "       9.96772984e-01, 9.96862706e-01, 9.96950827e-01, 9.97037371e-01,\n",
       "       9.97122362e-01, 9.97205823e-01, 9.97287779e-01, 9.97368253e-01,\n",
       "       9.97447268e-01, 9.97524846e-01, 9.97601011e-01, 9.97675784e-01,\n",
       "       9.97749188e-01, 9.97821243e-01, 9.97891972e-01, 9.97961396e-01,\n",
       "       9.98029535e-01, 9.98096411e-01, 9.98162042e-01, 9.98226451e-01,\n",
       "       9.98289655e-01, 9.98351676e-01, 9.98412531e-01, 9.98472241e-01,\n",
       "       9.98530824e-01, 9.98588299e-01, 9.98644683e-01, 9.98699996e-01,\n",
       "       9.98754254e-01, 9.98807476e-01, 9.98859678e-01, 9.98910878e-01,\n",
       "       9.98961093e-01, 9.99010339e-01, 9.99058633e-01, 9.99105990e-01,\n",
       "       9.99152428e-01, 9.99197961e-01, 9.99242605e-01, 9.99286375e-01,\n",
       "       9.99329287e-01, 9.99371355e-01, 9.99412594e-01, 9.99453018e-01,\n",
       "       9.99492642e-01, 9.99531479e-01, 9.99569544e-01, 9.99606850e-01,\n",
       "       9.99643410e-01, 9.99679238e-01, 9.99714346e-01, 9.99748748e-01,\n",
       "       9.99782455e-01, 9.99815481e-01, 9.99847838e-01, 9.99879538e-01,\n",
       "       9.99910593e-01, 9.99941013e-01, 9.99970812e-01, 1.00000000e+00])"
      ]
     },
     "execution_count": 145,
     "metadata": {},
     "output_type": "execute_result"
    }
   ],
   "source": [
    "cdf/max(cdf)"
   ]
  },
  {
   "cell_type": "code",
   "execution_count": 149,
   "metadata": {},
   "outputs": [],
   "source": [
    "cdf1=np.cumsum(pdf)"
   ]
  },
  {
   "cell_type": "code",
   "execution_count": 157,
   "metadata": {},
   "outputs": [],
   "source": [
    "cdf2=cdf = [0.5 * (1 + math.erf((i - mu) / (std * math.sqrt(2)))) for i in x]\n"
   ]
  },
  {
   "cell_type": "code",
   "execution_count": 174,
   "metadata": {},
   "outputs": [
    {
     "name": "stderr",
     "output_type": "stream",
     "text": [
      "C:\\Users\\Deepak\\AppData\\Local\\Temp\\ipykernel_4828\\4032717068.py:6: UserWarning: Matplotlib is currently using module://matplotlib_inline.backend_inline, which is a non-GUI backend, so cannot show the figure.\n",
      "  fig.show()\n"
     ]
    },
    {
     "data": {
      "image/png": "[encoded data removed]",
      "text/plain": [
       "<Figure size 720x360 with 4 Axes>"
      ]
     },
     "metadata": {
      "needs_background": "light"
     },
     "output_type": "display_data"
    }
   ],
   "source": [
    "fig,ax=plt.subplots(ncols=4,figsize=(10,5))\n",
    "ax[0].plot(x,cdf)\n",
    "ax[1].plot(x,cdf1/max(cdf1))\n",
    "ax[2].plot(x,cdf)\n",
    "sns.ecdfplot(normal)\n",
    "fig.show()\n"
   ]
  },
  {
   "attachments": {},
   "cell_type": "markdown",
   "metadata": {},
   "source": [
    "-- non parematric approch "
   ]
  },
  {
   "cell_type": "code",
   "execution_count": 183,
   "metadata": {},
   "outputs": [],
   "source": [
    "pareto = np.random.pareto(a=1,size=1000)"
   ]
  },
  {
   "cell_type": "code",
   "execution_count": 196,
   "metadata": {},
   "outputs": [],
   "source": [
    "kde=KernelDensity(bandwidth=0.5,kernel='gaussian')"
   ]
  },
  {
   "cell_type": "code",
   "execution_count": 197,
   "metadata": {},
   "outputs": [
    {
     "data": {
      "text/html": [
       "<style>#sk-container-id-3 {color: black;background-color: white;}#sk-container-id-3 pre{padding: 0;}#sk-container-id-3 div.sk-toggleable {background-color: white;}#sk-container-id-3 label.sk-toggleable__label {cursor: pointer;display: block;width: 100%;margin-bottom: 0;padding: 0.3em;box-sizing: border-box;text-align: center;}#sk-container-id-3 label.sk-toggleable__label-arrow:before {content: \"▸\";float: left;margin-right: 0.25em;color: #696969;}#sk-container-id-3 label.sk-toggleable__label-arrow:hover:before {color: black;}#sk-container-id-3 div.sk-estimator:hover label.sk-toggleable__label-arrow:before {color: black;}#sk-container-id-3 div.sk-toggleable__content {max-height: 0;max-width: 0;overflow: hidden;text-align: left;background-color: #f0f8ff;}#sk-container-id-3 div.sk-toggleable__content pre {margin: 0.2em;color: black;border-radius: 0.25em;background-color: #f0f8ff;}#sk-container-id-3 input.sk-toggleable__control:checked~div.sk-toggleable__content {max-height: 200px;max-width: 100%;overflow: auto;}#sk-container-id-3 input.sk-toggleable__control:checked~label.sk-toggleable__label-arrow:before {content: \"▾\";}#sk-container-id-3 div.sk-estimator input.sk-toggleable__control:checked~label.sk-toggleable__label {background-color: #d4ebff;}#sk-container-id-3 div.sk-label input.sk-toggleable__control:checked~label.sk-toggleable__label {background-color: #d4ebff;}#sk-container-id-3 input.sk-hidden--visually {border: 0;clip: rect(1px 1px 1px 1px);clip: rect(1px, 1px, 1px, 1px);height: 1px;margin: -1px;overflow: hidden;padding: 0;position: absolute;width: 1px;}#sk-container-id-3 div.sk-estimator {font-family: monospace;background-color: #f0f8ff;border: 1px dotted black;border-radius: 0.25em;box-sizing: border-box;margin-bottom: 0.5em;}#sk-container-id-3 div.sk-estimator:hover {background-color: #d4ebff;}#sk-container-id-3 div.sk-parallel-item::after {content: \"\";width: 100%;border-bottom: 1px solid gray;flex-grow: 1;}#sk-container-id-3 div.sk-label:hover label.sk-toggleable__label {background-color: #d4ebff;}#sk-container-id-3 div.sk-serial::before {content: \"\";position: absolute;border-left: 1px solid gray;box-sizing: border-box;top: 0;bottom: 0;left: 50%;z-index: 0;}#sk-container-id-3 div.sk-serial {display: flex;flex-direction: column;align-items: center;background-color: white;padding-right: 0.2em;padding-left: 0.2em;position: relative;}#sk-container-id-3 div.sk-item {position: relative;z-index: 1;}#sk-container-id-3 div.sk-parallel {display: flex;align-items: stretch;justify-content: center;background-color: white;position: relative;}#sk-container-id-3 div.sk-item::before, #sk-container-id-3 div.sk-parallel-item::before {content: \"\";position: absolute;border-left: 1px solid gray;box-sizing: border-box;top: 0;bottom: 0;left: 50%;z-index: -1;}#sk-container-id-3 div.sk-parallel-item {display: flex;flex-direction: column;z-index: 1;position: relative;background-color: white;}#sk-container-id-3 div.sk-parallel-item:first-child::after {align-self: flex-end;width: 50%;}#sk-container-id-3 div.sk-parallel-item:last-child::after {align-self: flex-start;width: 50%;}#sk-container-id-3 div.sk-parallel-item:only-child::after {width: 0;}#sk-container-id-3 div.sk-dashed-wrapped {border: 1px dashed gray;margin: 0 0.4em 0.5em 0.4em;box-sizing: border-box;padding-bottom: 0.4em;background-color: white;}#sk-container-id-3 div.sk-label label {font-family: monospace;font-weight: bold;display: inline-block;line-height: 1.2em;}#sk-container-id-3 div.sk-label-container {text-align: center;}#sk-container-id-3 div.sk-container {/* jupyter's `normalize.less` sets `[hidden] { display: none; }` but bootstrap.min.css set `[hidden] { display: none !important; }` so we also need the `!important` here to be able to override the default hidden behavior on the sphinx rendered scikit-learn.org. See: https://github.com/scikit-learn/scikit-learn/issues/21755 */display: inline-block !important;position: relative;}#sk-container-id-3 div.sk-text-repr-fallback {display: none;}</style><div id=\"sk-container-id-3\" class=\"sk-top-container\"><div class=\"sk-text-repr-fallback\"><pre>KernelDensity(bandwidth=0.5)</pre><b>In a Jupyter environment, please rerun this cell to show the HTML representation or trust the notebook. <br />On GitHub, the HTML representation is unable to render, please try loading this page with nbviewer.org.</b></div><div class=\"sk-container\" hidden><div class=\"sk-item\"><div class=\"sk-estimator sk-toggleable\"><input class=\"sk-toggleable__control sk-hidden--visually\" id=\"sk-estimator-id-3\" type=\"checkbox\" checked><label for=\"sk-estimator-id-3\" class=\"sk-toggleable__label sk-toggleable__label-arrow\">KernelDensity</label><div class=\"sk-toggleable__content\"><pre>KernelDensity(bandwidth=0.5)</pre></div></div></div></div></div>"
      ],
      "text/plain": [
       "KernelDensity(bandwidth=0.5)"
      ]
     },
     "execution_count": 197,
     "metadata": {},
     "output_type": "execute_result"
    }
   ],
   "source": [
    "kde.fit(pareto.reshape(-1,1))"
   ]
  },
  {
   "cell_type": "code",
   "execution_count": 221,
   "metadata": {},
   "outputs": [],
   "source": [
    "x=np.linspace(pareto.min(),pareto.max(),100)"
   ]
  },
  {
   "cell_type": "code",
   "execution_count": 200,
   "metadata": {},
   "outputs": [],
   "source": [
    "pdf=np.exp(kde.score_samples(x.reshape(-1,1)))"
   ]
  },
  {
   "cell_type": "code",
   "execution_count": 211,
   "metadata": {},
   "outputs": [
    {
     "data": {
      "text/plain": [
       "<AxesSubplot: ylabel='Density'>"
      ]
     },
     "execution_count": 211,
     "metadata": {},
     "output_type": "execute_result"
    },
    {
     "data": {
      "image/png": "[encoded data removed]",
      "text/plain": [
       "<Figure size 432x288 with 1 Axes>"
      ]
     },
     "metadata": {
      "needs_background": "light"
     },
     "output_type": "display_data"
    }
   ],
   "source": [
    "plt.plot(x,pdf)\n",
    "sns.kdeplot(pareto)"
   ]
  },
  {
   "cell_type": "code",
   "execution_count": 212,
   "metadata": {},
   "outputs": [
    {
     "data": {
      "image/png": "[encoded data removed]",
      "text/plain": [
       "<Figure size 432x288 with 1 Axes>"
      ]
     },
     "metadata": {
      "needs_background": "light"
     },
     "output_type": "display_data"
    }
   ],
   "source": [
    "alpha = 3.0\n",
    "x = np.random.pareto(alpha, size=1000)\n",
    "\n",
    "# Fit a Gaussian kernel density estimator to the data\n",
    "kde = KernelDensity(kernel='gaussian', bandwidth=0.1).fit(x.reshape(-1, 1))\n",
    "\n",
    "# Evaluate the density estimator at some points\n",
    "x_grid = np.linspace(0, 10, 1000)\n",
    "log_density = kde.score_samples(x_grid.reshape(-1, 1))\n",
    "\n",
    "# Plot the density estimator\n",
    "plt.plot(x_grid, np.exp(log_density))\n",
    "sns.kdeplot(x)\n",
    "plt.xlabel('x')\n",
    "plt.ylabel('Density')\n",
    "plt.title('Kernel density estimation of Pareto distribution')\n",
    "plt.show()"
   ]
  },
  {
   "cell_type": "code",
   "execution_count": 220,
   "metadata": {},
   "outputs": [],
   "source": [
    "cdf=pdf.cumsum()"
   ]
  },
  {
   "cell_type": "code",
   "execution_count": 223,
   "metadata": {},
   "outputs": [
    {
     "data": {
      "text/plain": [
       "<AxesSubplot: ylabel='Proportion'>"
      ]
     },
     "execution_count": 223,
     "metadata": {},
     "output_type": "execute_result"
    },
    {
     "data": {
      "image/png": "[encoded data removed]",
      "text/plain": [
       "<Figure size 432x288 with 1 Axes>"
      ]
     },
     "metadata": {
      "needs_background": "light"
     },
     "output_type": "display_data"
    }
   ],
   "source": [
    "plt.plot(x,cdf/max(cdf))\n",
    "sns.ecdfplot(pareto)"
   ]
  },
  {
   "attachments": {},
   "cell_type": "markdown",
   "metadata": {},
   "source": [
    "tips"
   ]
  },
  {
   "cell_type": "code",
   "execution_count": 226,
   "metadata": {},
   "outputs": [
    {
     "data": {
      "text/plain": [
       "<AxesSubplot: ylabel='Density'>"
      ]
     },
     "execution_count": 226,
     "metadata": {},
     "output_type": "execute_result"
    },
    {
     "data": {
      "image/png": "[encoded data removed]",
      "text/plain": [
       "<Figure size 432x288 with 1 Axes>"
      ]
     },
     "metadata": {
      "needs_background": "light"
     },
     "output_type": "display_data"
    }
   ],
   "source": [
    "tips.total_bill.plot(kind='kde')"
   ]
  },
  {
   "cell_type": "code",
   "execution_count": 244,
   "metadata": {},
   "outputs": [],
   "source": [
    "kde=KernelDensity(kernel='gaussian',bandwidth=1.5)"
   ]
  },
  {
   "cell_type": "code",
   "execution_count": 249,
   "metadata": {},
   "outputs": [
    {
     "data": {
      "text/html": [
       "<style>#sk-container-id-7 {color: black;background-color: white;}#sk-container-id-7 pre{padding: 0;}#sk-container-id-7 div.sk-toggleable {background-color: white;}#sk-container-id-7 label.sk-toggleable__label {cursor: pointer;display: block;width: 100%;margin-bottom: 0;padding: 0.3em;box-sizing: border-box;text-align: center;}#sk-container-id-7 label.sk-toggleable__label-arrow:before {content: \"▸\";float: left;margin-right: 0.25em;color: #696969;}#sk-container-id-7 label.sk-toggleable__label-arrow:hover:before {color: black;}#sk-container-id-7 div.sk-estimator:hover label.sk-toggleable__label-arrow:before {color: black;}#sk-container-id-7 div.sk-toggleable__content {max-height: 0;max-width: 0;overflow: hidden;text-align: left;background-color: #f0f8ff;}#sk-container-id-7 div.sk-toggleable__content pre {margin: 0.2em;color: black;border-radius: 0.25em;background-color: #f0f8ff;}#sk-container-id-7 input.sk-toggleable__control:checked~div.sk-toggleable__content {max-height: 200px;max-width: 100%;overflow: auto;}#sk-container-id-7 input.sk-toggleable__control:checked~label.sk-toggleable__label-arrow:before {content: \"▾\";}#sk-container-id-7 div.sk-estimator input.sk-toggleable__control:checked~label.sk-toggleable__label {background-color: #d4ebff;}#sk-container-id-7 div.sk-label input.sk-toggleable__control:checked~label.sk-toggleable__label {background-color: #d4ebff;}#sk-container-id-7 input.sk-hidden--visually {border: 0;clip: rect(1px 1px 1px 1px);clip: rect(1px, 1px, 1px, 1px);height: 1px;margin: -1px;overflow: hidden;padding: 0;position: absolute;width: 1px;}#sk-container-id-7 div.sk-estimator {font-family: monospace;background-color: #f0f8ff;border: 1px dotted black;border-radius: 0.25em;box-sizing: border-box;margin-bottom: 0.5em;}#sk-container-id-7 div.sk-estimator:hover {background-color: #d4ebff;}#sk-container-id-7 div.sk-parallel-item::after {content: \"\";width: 100%;border-bottom: 1px solid gray;flex-grow: 1;}#sk-container-id-7 div.sk-label:hover label.sk-toggleable__label {background-color: #d4ebff;}#sk-container-id-7 div.sk-serial::before {content: \"\";position: absolute;border-left: 1px solid gray;box-sizing: border-box;top: 0;bottom: 0;left: 50%;z-index: 0;}#sk-container-id-7 div.sk-serial {display: flex;flex-direction: column;align-items: center;background-color: white;padding-right: 0.2em;padding-left: 0.2em;position: relative;}#sk-container-id-7 div.sk-item {position: relative;z-index: 1;}#sk-container-id-7 div.sk-parallel {display: flex;align-items: stretch;justify-content: center;background-color: white;position: relative;}#sk-container-id-7 div.sk-item::before, #sk-container-id-7 div.sk-parallel-item::before {content: \"\";position: absolute;border-left: 1px solid gray;box-sizing: border-box;top: 0;bottom: 0;left: 50%;z-index: -1;}#sk-container-id-7 div.sk-parallel-item {display: flex;flex-direction: column;z-index: 1;position: relative;background-color: white;}#sk-container-id-7 div.sk-parallel-item:first-child::after {align-self: flex-end;width: 50%;}#sk-container-id-7 div.sk-parallel-item:last-child::after {align-self: flex-start;width: 50%;}#sk-container-id-7 div.sk-parallel-item:only-child::after {width: 0;}#sk-container-id-7 div.sk-dashed-wrapped {border: 1px dashed gray;margin: 0 0.4em 0.5em 0.4em;box-sizing: border-box;padding-bottom: 0.4em;background-color: white;}#sk-container-id-7 div.sk-label label {font-family: monospace;font-weight: bold;display: inline-block;line-height: 1.2em;}#sk-container-id-7 div.sk-label-container {text-align: center;}#sk-container-id-7 div.sk-container {/* jupyter's `normalize.less` sets `[hidden] { display: none; }` but bootstrap.min.css set `[hidden] { display: none !important; }` so we also need the `!important` here to be able to override the default hidden behavior on the sphinx rendered scikit-learn.org. See: https://github.com/scikit-learn/scikit-learn/issues/21755 */display: inline-block !important;position: relative;}#sk-container-id-7 div.sk-text-repr-fallback {display: none;}</style><div id=\"sk-container-id-7\" class=\"sk-top-container\"><div class=\"sk-text-repr-fallback\"><pre>KernelDensity(bandwidth=1.5)</pre><b>In a Jupyter environment, please rerun this cell to show the HTML representation or trust the notebook. <br />On GitHub, the HTML representation is unable to render, please try loading this page with nbviewer.org.</b></div><div class=\"sk-container\" hidden><div class=\"sk-item\"><div class=\"sk-estimator sk-toggleable\"><input class=\"sk-toggleable__control sk-hidden--visually\" id=\"sk-estimator-id-7\" type=\"checkbox\" checked><label for=\"sk-estimator-id-7\" class=\"sk-toggleable__label sk-toggleable__label-arrow\">KernelDensity</label><div class=\"sk-toggleable__content\"><pre>KernelDensity(bandwidth=1.5)</pre></div></div></div></div></div>"
      ],
      "text/plain": [
       "KernelDensity(bandwidth=1.5)"
      ]
     },
     "execution_count": 249,
     "metadata": {},
     "output_type": "execute_result"
    }
   ],
   "source": [
    "kde.fit(t_bill.values.reshape(-1,1))"
   ]
  },
  {
   "cell_type": "code",
   "execution_count": 250,
   "metadata": {},
   "outputs": [],
   "source": [
    "x=np.linspace(t_bill.min(),t_bill.max(),len(t_bill))"
   ]
  },
  {
   "cell_type": "code",
   "execution_count": 251,
   "metadata": {},
   "outputs": [],
   "source": [
    "pdf=np.exp(kde.score_samples(x.reshape(-1,1)))"
   ]
  },
  {
   "cell_type": "code",
   "execution_count": 254,
   "metadata": {},
   "outputs": [
    {
     "data": {
      "text/plain": [
       "<AxesSubplot: xlabel='total_bill', ylabel='Density'>"
      ]
     },
     "execution_count": 254,
     "metadata": {},
     "output_type": "execute_result"
    },
    {
     "data": {
      "image/png": "[encoded data removed]",
      "text/plain": [
       "<Figure size 432x288 with 1 Axes>"
      ]
     },
     "metadata": {
      "needs_background": "light"
     },
     "output_type": "display_data"
    }
   ],
   "source": [
    "plt.plot(x,pdf)\n",
    "sns.kdeplot(t_bill)"
   ]
  },
  {
   "cell_type": "code",
   "execution_count": 257,
   "metadata": {},
   "outputs": [],
   "source": [
    "cdf=pdf.cumsum()"
   ]
  },
  {
   "cell_type": "code",
   "execution_count": 258,
   "metadata": {},
   "outputs": [
    {
     "data": {
      "text/plain": [
       "<AxesSubplot: xlabel='total_bill', ylabel='Proportion'>"
      ]
     },
     "execution_count": 258,
     "metadata": {},
     "output_type": "execute_result"
    },
    {
     "data": {
      "image/png": "[encoded data removed]",
      "text/plain": [
       "<Figure size 432x288 with 1 Axes>"
      ]
     },
     "metadata": {
      "needs_background": "light"
     },
     "output_type": "display_data"
    }
   ],
   "source": [
    "plt.plot(x,cdf/max(cdf))\n",
    "sns.ecdfplot(t_bill)"
   ]
  },
  {
   "attachments": {},
   "cell_type": "markdown",
   "metadata": {},
   "source": [
    "--continues random distribution \n",
    "- normal distribution \n",
    "  - parmameter(mu,sigma(std))\n",
    "  - standarnd normal distribution where the mean=0 and std=1\n",
    "  - z calculation \n",
    "- pareto distribution \n",
    "  -paremeter(alpha(shape parameter),scale=xm(min))\n",
    "  - it used for the welth \n",
    "- log - normal distribution \n",
    "  - the log of log normal distribution is normal distribution \n",
    "  - parameter(mu,sigma)\n",
    "- uniform distribution \n",
    "  - the continues random distrbution where all the outcome are equally distribution\n",
    "  - parameter(lower_bound,upper_bound)"
   ]
  }
 ],
 "metadata": {
  "kernelspec": {
   "display_name": "Python 3",
   "language": "python",
   "name": "python3"
  },
  "language_info": {
   "codemirror_mode": {
    "name": "ipython",
    "version": 3
   },
   "file_extension": ".py",
   "mimetype": "text/x-python",
   "name": "python",
   "nbconvert_exporter": "python",
   "pygments_lexer": "ipython3",
   "version": "3.10.7"
  },
  "orig_nbformat": 4
 },
 "nbformat": 4,
 "nbformat_minor": 2
}
