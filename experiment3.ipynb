{
 "cells": [
  {
   "cell_type": "code",
   "execution_count": 1,
   "metadata": {},
   "outputs": [],
   "source": [
    "import pandas as pd\n",
    "import matplotlib.pyplot as plt\n",
    "import seaborn as sns\n",
    "from sklearn.datasets import load_wine\n",
    "\n"
   ]
  },
  {
   "cell_type": "code",
   "execution_count": null,
   "metadata": {},
   "outputs": [],
   "source": [
    "# load the wine dataset\n",
    "data = load_wine()"
   ]
  },
  {
   "attachments": {},
   "cell_type": "markdown",
   "metadata": {},
   "source": [
    "### `Q.1`. Given a normal distribution with mean as 50 and deviation as 10, answer below questions\n",
    "\n",
    "(X ~ N(5O, 10) ): \n",
    "\n",
    "###  a. what are the values of the mean and standard deviation?\n",
    "    sol- `mean 50 and standard deviation is 10. `\n",
    "    \n",
    "### b. What value of x has a z-score of 1.4? \n",
    "    sol-`\n",
    "\n",
    "    x = z*σ + μ\n",
    "    z = 1.4, σ = 10, and μ = 50, \n",
    "    we get:\n",
    "    x = 1.4*10 + 50 = 64\n",
    "\n",
    "    `\n",
    "\n",
    "### c. What is the Z-score that corresponds to x = 30? \n",
    "\n",
    "    sol-`z = (x - μ) / σ = (30 - 50) / 10 = -2\n",
    "\n",
    "         Therefore, the z-score that corresponds to x = 30 is -2.\n",
    "    `\n",
    "\n",
    "   ### d. What is the difference between positive and negative z values?\n",
    "\n",
    "    sol-\n",
    "    `The difference between positive and negative z values is their direction on the normal distribution. A positive z-score means that the value is above the mean, while a negative z-score means that the value is below the mean. The magnitude of the z-score indicates how far the value is from the mean in terms of the number of standard deviations. A z-score of 1 indicates a value that is 1 standard deviation above the mean, while a z-score of -1 indicates a value that is 1 standard deviation below the mean.\n",
    "    `"
   ]
  },
  {
   "attachments": {},
   "cell_type": "markdown",
   "metadata": {},
   "source": [
    "### `Q.2:`The average test score in a certain statistics class was 74 with a standard deviation of 8. There are 2000 students in this class. Use the emperical rule to answer the following questions: \n",
    "    (a) What percentage of students scored less than 58? \n",
    "    (b) What is the probability that a student score between 66 and 82 on the exam? \n",
    "    (c) How many students scored at most 90? \n",
    "    (d) What percentage of students scored at least 66? \n",
    "    (e) How many students scored more than 98 on the test?"
   ]
  },
  {
   "attachments": {},
   "cell_type": "markdown",
   "metadata": {},
   "source": [
    "Sol-1 z==58-74/8=-16/8=-2 then the acoording to the emprical rule 2.5% student score less than the 58.(emperical rule 68-95-97.7)\n",
    "sol-2 z1=66-74/8=-1\n",
    "  and z2=82-74/8=1\n",
    "  because the value under the one standar deviation so that according to emprica formula the approximately 68% student score marks between 66 to 82.\n",
    "\n",
    "  sol-3 z=90-74/8=2 - 95% at most 90;0.95*200=1900 about 19 hyndred student score at most 90\n",
    "\n",
    "  sol 4 z=66-74/8=-1 = 84% student at least score 66 ; o.85*2000=1700 student at least 66 marks.\n",
    "\n",
    "  sol-5 98-74/8=3 ,0.100-0.997=0.003*2000 six studet score more than the 98 percent "
   ]
  },
  {
   "attachments": {},
   "cell_type": "markdown",
   "metadata": {},
   "source": [
    "### `Q-3:` Normally distributed IQ scores have a mean of 100 and a standard deviation of 15. Use the standard z-table to answer the following questions:\n",
    "\n",
    "What is the probability of randomly selecting someone with an IQ score that is \n",
    "\n",
    "    (a) less than 80? -->9.08%\n",
    "    (b) greater than 136? -->.0082-0.82%\n",
    "    (c) between 95 and 110?-37%\n",
    "    (d) What IQ score corresponds to the 90th percentile? \n",
    "    0.90=1.28\n",
    "    IQ = mean + z-score * standard deviation\n",
    "       = 100 + 1.28 * 15\n",
    "       = 119.2\n",
    "    (e) The middle 30% of IQs fall between what two values?\n",
    "    z2 = (x2 - μ) / σ\n",
    "\n",
    "0.5244 = (x2 - 100) / 15\n",
    "\n",
    "x2 = (0.5244 * 15) + 100\n",
    "\n",
    "107\n",
    "\n",
    "x1"
   ]
  }
 ],
 "metadata": {
  "kernelspec": {
   "display_name": "Python 3",
   "language": "python",
   "name": "python3"
  },
  "language_info": {
   "codemirror_mode": {
    "name": "ipython",
    "version": 3
   },
   "file_extension": ".py",
   "mimetype": "text/x-python",
   "name": "python",
   "nbconvert_exporter": "python",
   "pygments_lexer": "ipython3",
   "version": "3.10.7"
  },
  "orig_nbformat": 4
 },
 "nbformat": 4,
 "nbformat_minor": 2
}
